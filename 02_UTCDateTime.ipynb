{
 "cells": [
  {
   "cell_type": "markdown",
   "metadata": {},
   "source": [
    "<div style='background-image: url(\"./share/header_no_text.svg\") ; padding: 0px ; background-size: cover ; border-radius: 5px ; height: 250px'>\n",
    "    <div style=\"float: right ; margin: 50px ; padding: 20px ; background: rgba(255 , 255 , 255 , 0.7) ; width: 50% ; height: 150px\">\n",
    "        <div style=\"position: relative ; top: 50% ; transform: translatey(-50%)\">\n",
    "            <div style=\"font-size: xx-large ; font-weight: 900 ; color: rgba(0 , 0 , 0 , 0.8) ; line-height: 100%\">ObsPy Tutorial</div>\n",
    "            <div style=\"font-size: large ; padding-top: 20px ; color: rgba(0 , 0 , 0 , 0.5)\">Handling Time</div>\n",
    "        </div>\n",
    "    </div>\n",
    "</div>"
   ]
  },
  {
   "cell_type": "markdown",
   "metadata": {},
   "source": [
    "![](images/obspy_logo_full_524x179px.png)"
   ]
  },
  {
   "cell_type": "markdown",
   "metadata": {},
   "source": [
    "This is a bit dry but not very difficult and important to know. It is used everywhere in ObsPy!\n",
    "\n",
    "\n",
    "* All absolute time values are consistently handled with this class\n",
    "* Based on a nanosecond precision POSIX timestamp for accuracy\n",
    "* Timezone can be specified at initialization (if necessary)\n",
    "* In Coordinated Universal Time (UTC) so no need to deal with timezones, daylight savings, ...\n",
    "* Can be stored at different precision, as time is not always exactly known.\n",
    "\n",
    "---"
   ]
  },
  {
   "cell_type": "code",
   "execution_count": 1,
   "metadata": {},
   "outputs": [],
   "source": [
    "%matplotlib inline\n",
    "import matplotlib.pyplot as plt"
   ]
  },
  {
   "cell_type": "markdown",
   "metadata": {},
   "source": [
    "---\n",
    "\n",
    "## Features of **`UTCDateTime`**\n",
    "\n",
    "#### Initialization"
   ]
  },
  {
   "cell_type": "code",
   "execution_count": 2,
   "metadata": {},
   "outputs": [
    {
     "name": "stdout",
     "output_type": "stream",
     "text": [
      "2019-07-01T05:46:23.200000Z\n",
      "2019-07-02T05:46:23.200000Z\n",
      "2019-07-03T14:46:23.200000Z\n",
      "2019-07-04T14:50:00.000000Z\n",
      "2019-07-04T14:50:00.000000Z\n",
      "2019-07-04T14:50:00.000000Z\n",
      "2019-07-11T05:46:23.000002Z\n",
      "2019-07-11T05:46:23.000000Z\n"
     ]
    }
   ],
   "source": [
    "from obspy import UTCDateTime\n",
    "\n",
    "print(UTCDateTime(\"2019-07-01T05:46:23.2\"))        # mostly time strings defined by ISO standard\n",
    "print(UTCDateTime(\"2019-07-02T14:46:23.2+09:00\"))  # non-UTC timezone input\n",
    "print(UTCDateTime(\"2019-07-03 14:46:23.2\"))        # non-UTC timezone input\n",
    "print(UTCDateTime(\"20190704 1450\"))                # non-UTC timezone input\n",
    "print(UTCDateTime(\"2019/07/04 14:50\"))             # non-UTC timezone input\n",
    "print(UTCDateTime(\"2019-07-04 1450\"))              # non-UTC timezone input\n",
    "print(UTCDateTime(2019, 7, 11, 5, 46, 23, 2))\n",
    "print(UTCDateTime(1562823983.0))"
   ]
  },
  {
   "cell_type": "code",
   "execution_count": 3,
   "metadata": {},
   "outputs": [
    {
     "name": "stdout",
     "output_type": "stream",
     "text": [
      "2019-07-04T05:16:32.158443Z\n"
     ]
    }
   ],
   "source": [
    "# Current time can be initialized by leaving out any arguments\n",
    "print(UTCDateTime())"
   ]
  },
  {
   "cell_type": "markdown",
   "metadata": {},
   "source": [
    "#### Attribute Access"
   ]
  },
  {
   "cell_type": "code",
   "execution_count": 4,
   "metadata": {},
   "outputs": [
    {
     "name": "stdout",
     "output_type": "stream",
     "text": [
      "2019-07-11T05:46:03.200000Z\n",
      "year  : 2019\n",
      "month : 7,  month : 07\n",
      "day   : 11,  day   : 11\n",
      "hour  : 5,  hour  : 05\n",
      "minute: 46,  minute: 46\n",
      "second: 3,  second: 03\n",
      "microsecond: 200000\n",
      "julday: 192\n",
      "epochtime: 1562823963.2\n",
      "weekday: 3\n"
     ]
    }
   ],
   "source": [
    "time = UTCDateTime(\"2019-07-11T05:46:03.200000Z\")\n",
    "#time = UTCDateTime()\n",
    "print(time)\n",
    "print('year  : {}'.format(time.year))\n",
    "\n",
    "print('month : {}'.format(time.month), end= ',  ')\n",
    "print('month : {:02d}'.format(time.month))\n",
    "\n",
    "print('day   : {}'.format(time.day), end= ',  ')\n",
    "print('day   : {:02d}'.format(time.day))\n",
    "\n",
    "print('hour  : {:}'.format(time.hour), end= ',  ')\n",
    "print('hour  : {:02d}'.format(time.hour))\n",
    "\n",
    "print('minute: {:}'.format(time.minute), end= ',  ')\n",
    "print('minute: {:02d}'.format(time.minute))\n",
    "\n",
    "print('second: {:}'.format(time.second), end= ',  ')\n",
    "print('second: {:02d}'.format(time.second))\n",
    "\n",
    "print('microsecond: {:}'.format(time.microsecond))\n",
    "\n",
    "print('julday: {:03d}'.format(time.julday))\n",
    "\n",
    "print('epochtime: {}'.format(time.timestamp))\n",
    "\n",
    "print('weekday: {}'.format(time.weekday))\n",
    "# try time.<Tab>"
   ]
  },
  {
   "cell_type": "markdown",
   "metadata": {},
   "source": [
    "#### Handling time differences\n",
    "\n",
    "* \"**`+`**/**`-`**\" defined to add seconds to an **`UTCDateTime`** object\n",
    "* \"**`-`**\" defined to get time difference of two **`UTCDateTime`** objects"
   ]
  },
  {
   "cell_type": "code",
   "execution_count": 5,
   "metadata": {},
   "outputs": [
    {
     "name": "stdout",
     "output_type": "stream",
     "text": [
      "2019-07-11T05:46:23.200000Z\n"
     ]
    }
   ],
   "source": [
    "time = UTCDateTime(\"2019-07-11T05:46:23.200000Z\")\n",
    "print(time)"
   ]
  },
  {
   "cell_type": "code",
   "execution_count": 6,
   "metadata": {},
   "outputs": [
    {
     "name": "stdout",
     "output_type": "stream",
     "text": [
      "2019-07-11T06:46:23.200000Z\n"
     ]
    }
   ],
   "source": [
    "# one hour later\n",
    "print(time + 3600)"
   ]
  },
  {
   "cell_type": "code",
   "execution_count": 7,
   "metadata": {},
   "outputs": [
    {
     "name": "stdout",
     "output_type": "stream",
     "text": [
      "23.2\n"
     ]
    }
   ],
   "source": [
    "time2 = UTCDateTime(2019, 7, 11, 5, 46)\n",
    "print(time - time2)"
   ]
  },
  {
   "cell_type": "markdown",
   "metadata": {},
   "source": [
    "---\n",
    "### UTCDateTime 관련 참고 사이트\n",
    "* https://docs.obspy.org/tutorial/code_snippets/utc_date_time.html#handling-time-differences\n",
    "* https://docs.obspy.org/packages/autogen/obspy.core.utcdatetime.UTCDateTime.html#obspy.core.utcdatetime.UTCDateTime"
   ]
  },
  {
   "cell_type": "code",
   "execution_count": null,
   "metadata": {},
   "outputs": [],
   "source": []
  }
 ],
 "metadata": {
  "kernelspec": {
   "display_name": "Python 3",
   "language": "python",
   "name": "python3"
  },
  "language_info": {
   "codemirror_mode": {
    "name": "ipython",
    "version": 3
   },
   "file_extension": ".py",
   "mimetype": "text/x-python",
   "name": "python",
   "nbconvert_exporter": "python",
   "pygments_lexer": "ipython3",
   "version": "3.7.3"
  }
 },
 "nbformat": 4,
 "nbformat_minor": 1
}
